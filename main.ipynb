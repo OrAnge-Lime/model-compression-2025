{
 "cells": [
  {
   "cell_type": "code",
   "execution_count": 1,
   "metadata": {},
   "outputs": [
    {
     "name": "stderr",
     "output_type": "stream",
     "text": [
      "/home/orange_lime/.local/lib/python3.10/site-packages/tqdm/auto.py:21: TqdmWarning: IProgress not found. Please update jupyter and ipywidgets. See https://ipywidgets.readthedocs.io/en/stable/user_install.html\n",
      "  from .autonotebook import tqdm as notebook_tqdm\n",
      "2025-05-02 02:34:13.159145: E external/local_xla/xla/stream_executor/cuda/cuda_fft.cc:467] Unable to register cuFFT factory: Attempting to register factory for plugin cuFFT when one has already been registered\n",
      "WARNING: All log messages before absl::InitializeLog() is called are written to STDERR\n",
      "E0000 00:00:1746142453.170509  509452 cuda_dnn.cc:8579] Unable to register cuDNN factory: Attempting to register factory for plugin cuDNN when one has already been registered\n",
      "E0000 00:00:1746142453.173560  509452 cuda_blas.cc:1407] Unable to register cuBLAS factory: Attempting to register factory for plugin cuBLAS when one has already been registered\n",
      "W0000 00:00:1746142453.181562  509452 computation_placer.cc:177] computation placer already registered. Please check linkage and avoid linking the same target more than once.\n",
      "W0000 00:00:1746142453.181653  509452 computation_placer.cc:177] computation placer already registered. Please check linkage and avoid linking the same target more than once.\n",
      "W0000 00:00:1746142453.181654  509452 computation_placer.cc:177] computation placer already registered. Please check linkage and avoid linking the same target more than once.\n",
      "W0000 00:00:1746142453.181655  509452 computation_placer.cc:177] computation placer already registered. Please check linkage and avoid linking the same target more than once.\n",
      "2025-05-02 02:34:13.184993: I tensorflow/core/platform/cpu_feature_guard.cc:210] This TensorFlow binary is optimized to use available CPU instructions in performance-critical operations.\n",
      "To enable the following instructions: AVX2 FMA, in other operations, rebuild TensorFlow with the appropriate compiler flags.\n"
     ]
    }
   ],
   "source": [
    "import torch\n",
    "import time\n",
    "import psutil\n",
    "from tqdm import tqdm\n",
    "\n",
    "from transformers import  WhisperForConditionalGeneration, WhisperProcessor\n",
    "from datasets import load_dataset\n",
    "from collections import defaultdict\n",
    "from evaluate import load\n"
   ]
  },
  {
   "cell_type": "code",
   "execution_count": 2,
   "metadata": {},
   "outputs": [],
   "source": [
    "MODEL_NAME = \"openai/whisper-small\"  # 'openai/whisper-large-v2'\n",
    "\n",
    "model = WhisperForConditionalGeneration.from_pretrained(MODEL_NAME)\n",
    "processor = WhisperProcessor.from_pretrained(MODEL_NAME)"
   ]
  },
  {
   "cell_type": "code",
   "execution_count": 3,
   "metadata": {},
   "outputs": [],
   "source": [
    "wer = load(\"wer\")\n",
    "cer = load(\"cer\")\n",
    "\n",
    "dataset = load_dataset(\"librispeech_asr\", \"clean\", split=\"test\")"
   ]
  },
  {
   "cell_type": "code",
   "execution_count": 9,
   "metadata": {},
   "outputs": [],
   "source": [
    "def model_size(model):\n",
    "    param_size = 0\n",
    "    for param in model.parameters():\n",
    "        param_size += param.nelement() * param.element_size()\n",
    "    buffer_size = 0\n",
    "    for buffer in model.buffers():\n",
    "        buffer_size += buffer.nelement() * buffer.element_size()\n",
    "\n",
    "    size_all_mb = (param_size + buffer_size) / 1024**2\n",
    "    return round(size_all_mb, 2)\n",
    "\n",
    "\n",
    "def inference_time(model, device=\"cuda\", dtype=torch.float32, s=30):\n",
    "    sample_audio = torch.randn(1, 16000 * s).squeeze().numpy()\n",
    "    input_features = processor(sample_audio, sampling_rate=16000, return_tensors=\"pt\")\n",
    "\n",
    "    model.to(device)\n",
    "    input_tensor = input_features.input_features.to(device)\n",
    "\n",
    "    start_time = time.time()\n",
    "    with torch.no_grad():\n",
    "        output = model.generate(input_tensor.to(dtype), return_timestamps=True)[0]\n",
    "    processor.decode(output)\n",
    "\n",
    "    elapsed_time = (time.time() - start_time) * 1000\n",
    "\n",
    "    return round(elapsed_time / s, 2)\n",
    "\n",
    "\n",
    "def predict(batch, model, device=\"cuda\", dtype=torch.float32):\n",
    "    audio = batch[\"audio\"]\n",
    "    input_features = processor(audio[\"array\"], sampling_rate=audio[\"sampling_rate\"], return_tensors=\"pt\").input_features\n",
    "    input_features = input_features.to(dtype)\n",
    "\n",
    "    with torch.no_grad():\n",
    "        predicted_ids = model.generate(input_features.to(device))[0]\n",
    "    transcription = processor.decode(predicted_ids)\n",
    "    return processor.tokenizer._normalize(transcription)\n",
    "\n",
    "\n",
    "def metrics(model, dataset, device=\"cuda\", dtype=torch.float32, num_examples=64):\n",
    "    res = defaultdict(list)\n",
    "    for el in tqdm(dataset.select(range(num_examples))):\n",
    "        res[\"reference\"].append(processor.tokenizer._normalize(el[\"text\"]))\n",
    "        res[\"prediction\"].append(predict(el, model, device=device, dtype=dtype))\n",
    "\n",
    "    cer_res = 100 * cer.compute(references=res[\"reference\"], predictions=res[\"prediction\"])\n",
    "    wer_res = 100 * wer.compute(references=res[\"reference\"], predictions=res[\"prediction\"])\n",
    "\n",
    "    return {\"WER%\": round(wer_res, 2), \"CER%\": round(cer_res, 2)}"
   ]
  },
  {
   "cell_type": "code",
   "execution_count": 7,
   "metadata": {},
   "outputs": [
    {
     "name": "stdout",
     "output_type": "stream",
     "text": [
      "Model size:  922.1455078125\n",
      "CPU inference time :  389.37\n",
      "GPU inference time :  151.4\n"
     ]
    },
    {
     "name": "stderr",
     "output_type": "stream",
     "text": [
      "  0%|          | 0/64 [00:00<?, ?it/s]/home/orange_lime/.local/lib/python3.10/site-packages/transformers/models/whisper/tokenization_whisper.py:501: UserWarning: The private method `_normalize` is deprecated and will be removed in v5 of Transformers.You can normalize an input string using the Whisper English normalizer using the `normalize` method.\n",
      "  warnings.warn(\n",
      "100%|██████████| 64/64 [00:21<00:00,  2.97it/s]"
     ]
    },
    {
     "name": "stdout",
     "output_type": "stream",
     "text": [
      "Metrics:  {'WER%': 3.83, 'CER%': 1.34}\n"
     ]
    },
    {
     "name": "stderr",
     "output_type": "stream",
     "text": [
      "\n"
     ]
    }
   ],
   "source": [
    "print('Model size: ', model_size(model))\n",
    "print('CPU inference time : ', inference_time(model, device=\"cpu\"))\n",
    "print('GPU inference time : ', inference_time(model, device=\"cuda\"))\n",
    "print('Metrics: ', metrics(model, dataset, device=\"cuda\"))"
   ]
  },
  {
   "cell_type": "markdown",
   "metadata": {},
   "source": [
    "## quantization"
   ]
  },
  {
   "cell_type": "code",
   "execution_count": 10,
   "metadata": {},
   "outputs": [
    {
     "name": "stdout",
     "output_type": "stream",
     "text": [
      "Model size:  461.07\n",
      "CPU inference time :  7239.61\n",
      "GPU inference time :  110.85\n"
     ]
    },
    {
     "name": "stderr",
     "output_type": "stream",
     "text": [
      "100%|██████████| 64/64 [00:14<00:00,  4.36it/s]"
     ]
    },
    {
     "name": "stdout",
     "output_type": "stream",
     "text": [
      "Metrics:  {'WER%': 3.83, 'CER%': 1.34}\n"
     ]
    },
    {
     "name": "stderr",
     "output_type": "stream",
     "text": [
      "\n"
     ]
    }
   ],
   "source": [
    "# FP16\n",
    "model_fp16 = WhisperForConditionalGeneration.from_pretrained(MODEL_NAME, torch_dtype=torch.float16)\n",
    "\n",
    "print('Model size: ', model_size(model_fp16))\n",
    "print('CPU inference time : ', inference_time(model_fp16, device=\"cpu\", dtype=torch.float16))\n",
    "print('GPU inference time : ', inference_time(model_fp16, device=\"cuda\", dtype=torch.float16))\n",
    "print('Metrics: ', metrics(model_fp16, dataset, device=\"cuda\", dtype=torch.float16))"
   ]
  },
  {
   "cell_type": "code",
   "execution_count": 8,
   "metadata": {},
   "outputs": [
    {
     "name": "stdout",
     "output_type": "stream",
     "text": [
      "Model size:  165.4775390625\n",
      "CPU inference time :  287.9\n"
     ]
    },
    {
     "name": "stderr",
     "output_type": "stream",
     "text": [
      "100%|██████████| 64/64 [02:04<00:00,  1.95s/it]"
     ]
    },
    {
     "name": "stdout",
     "output_type": "stream",
     "text": [
      "Metrics:  {'WER%': 4.26, 'CER%': 1.53}\n"
     ]
    },
    {
     "name": "stderr",
     "output_type": "stream",
     "text": [
      "\n"
     ]
    }
   ],
   "source": [
    "# INT8\n",
    "model_int8 = torch.quantization.quantize_dynamic(\n",
    "    model.to('cpu'),\n",
    "    {torch.nn.Conv1d, torch.nn.Linear},\n",
    "    dtype=torch.qint8\n",
    ")\n",
    "\n",
    "print('Model size: ', model_size(model_int8))\n",
    "print('CPU inference time : ', inference_time(model_int8, device=\"cpu\"))\n",
    "print('Metrics: ', metrics(model_int8, dataset, device=\"cpu\"))"
   ]
  },
  {
   "cell_type": "markdown",
   "metadata": {},
   "source": [
    "## pruning"
   ]
  },
  {
   "cell_type": "code",
   "execution_count": 11,
   "metadata": {},
   "outputs": [],
   "source": [
    "import copy\n",
    "import itertools\n",
    "from torch.nn.utils import prune\n",
    "\n",
    "p_model = copy.deepcopy(model)"
   ]
  },
  {
   "cell_type": "code",
   "execution_count": 12,
   "metadata": {},
   "outputs": [
    {
     "name": "stdout",
     "output_type": "stream",
     "text": [
      "WhisperEncoderLayer(\n",
      "  (self_attn): WhisperSdpaAttention(\n",
      "    (k_proj): Linear(in_features=768, out_features=768, bias=False)\n",
      "    (v_proj): Linear(in_features=768, out_features=768, bias=True)\n",
      "    (q_proj): Linear(in_features=768, out_features=768, bias=True)\n",
      "    (out_proj): Linear(in_features=768, out_features=768, bias=True)\n",
      "  )\n",
      "  (self_attn_layer_norm): LayerNorm((768,), eps=1e-05, elementwise_affine=True)\n",
      "  (activation_fn): GELUActivation()\n",
      "  (fc1): Linear(in_features=768, out_features=3072, bias=True)\n",
      "  (fc2): Linear(in_features=3072, out_features=768, bias=True)\n",
      "  (final_layer_norm): LayerNorm((768,), eps=1e-05, elementwise_affine=True)\n",
      ")\n"
     ]
    }
   ],
   "source": [
    "module = p_model.model.encoder.layers[0]\n",
    "print(module)"
   ]
  },
  {
   "cell_type": "code",
   "execution_count": 13,
   "metadata": {},
   "outputs": [],
   "source": [
    "parameters_to_prune = tuple(\n",
    "    list(\n",
    "        itertools.chain(\n",
    "            *[\n",
    "                [\n",
    "                    (p_model.model.encoder.layers[el].self_attn.k_proj, \"weight\"),\n",
    "                    (p_model.model.encoder.layers[el].self_attn.v_proj, \"weight\"),\n",
    "                    (p_model.model.encoder.layers[el].self_attn.q_proj, \"weight\"),\n",
    "                    (p_model.model.encoder.layers[el].self_attn.out_proj, \"weight\"),\n",
    "                    (p_model.model.encoder.layers[el].self_attn.out_proj, \"weight\"),\n",
    "                    (p_model.model.encoder.layers[el].fc1, \"weight\"),\n",
    "                    (p_model.model.encoder.layers[el].fc2, \"weight\"),\n",
    "                ]\n",
    "                for el in range(12)\n",
    "            ]\n",
    "        )\n",
    "    )\n",
    ")\n",
    "\n",
    "torch.nn.utils.prune.global_unstructured(\n",
    "    parameters_to_prune,\n",
    "    pruning_method=prune.L1Unstructured,\n",
    "    amount=0.2,\n",
    ")"
   ]
  },
  {
   "cell_type": "code",
   "execution_count": 14,
   "metadata": {},
   "outputs": [
    {
     "name": "stdout",
     "output_type": "stream",
     "text": [
      "Model size:  1246.15\n",
      "CPU inference time :  387.41\n",
      "GPU inference time :  141.56\n"
     ]
    },
    {
     "name": "stderr",
     "output_type": "stream",
     "text": [
      "100%|██████████| 64/64 [00:22<00:00,  2.80it/s]"
     ]
    },
    {
     "name": "stdout",
     "output_type": "stream",
     "text": [
      "Metrics:  {'WER%': 3.83, 'CER%': 1.34}\n"
     ]
    },
    {
     "name": "stderr",
     "output_type": "stream",
     "text": [
      "\n"
     ]
    }
   ],
   "source": [
    "print('Model size: ', model_size(p_model))\n",
    "print('CPU inference time : ', inference_time(p_model, device=\"cpu\"))\n",
    "print('GPU inference time : ', inference_time(p_model, device=\"cuda\"))\n",
    "print('Metrics: ', metrics(p_model, dataset, device=\"cuda\"))"
   ]
  }
 ],
 "metadata": {
  "kernelspec": {
   "display_name": "Python 3",
   "language": "python",
   "name": "python3"
  },
  "language_info": {
   "codemirror_mode": {
    "name": "ipython",
    "version": 3
   },
   "file_extension": ".py",
   "mimetype": "text/x-python",
   "name": "python",
   "nbconvert_exporter": "python",
   "pygments_lexer": "ipython3",
   "version": "3.10.12"
  }
 },
 "nbformat": 4,
 "nbformat_minor": 2
}
