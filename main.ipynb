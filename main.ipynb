{
 "cells": [
  {
   "cell_type": "code",
   "execution_count": null,
   "metadata": {},
   "outputs": [],
   "source": [
    "import torch\n",
    "import time\n",
    "import psutil\n",
    "import tqdm\n",
    "import gc\n",
    "\n",
    "from transformers import pipeline, WhisperForConditionalGeneration, WhisperProcessor\n",
    "from datasets import load_metric, load_dataset\n",
    "from collections import defaultdict\n",
    "from evaluate import load"
   ]
  },
  {
   "cell_type": "code",
   "execution_count": null,
   "metadata": {},
   "outputs": [],
   "source": [
    "# Use a pipeline as a high-level helper\n",
    "# from transformers import pipeline\n",
    "\n",
    "# pipe = pipeline(\"automatic-speech-recognition\", model=\"openai/whisper-small\")\n",
    "\n",
    "# from transformers import AutoProcessor, AutoModelForSpeechSeq2Seq\n",
    "\n",
    "# processor = AutoProcessor.from_pretrained(\"openai/whisper-small\")\n",
    "# model = AutoModelForSpeechSeq2Seq.from_pretrained(\"openai/whisper-small\")\n",
    "# model.generate"
   ]
  },
  {
   "cell_type": "code",
   "execution_count": null,
   "metadata": {},
   "outputs": [],
   "source": [
    "MODEL_NAME = \"openai/whisper-small\"  # 'openai/whisper-large-v2'\n",
    "\n",
    "device = \"cuda\" if torch.cuda.is_available() else \"cpu\"\n",
    "print(device)\n",
    "\n",
    "model = WhisperForConditionalGeneration.from_pretrained(MODEL_NAME).to(device)\n",
    "processor = WhisperProcessor.from_pretrained(MODEL_NAME)\n",
    "model"
   ]
  },
  {
   "cell_type": "markdown",
   "metadata": {},
   "source": [
    "### model size"
   ]
  },
  {
   "cell_type": "code",
   "execution_count": null,
   "metadata": {},
   "outputs": [],
   "source": [
    "model_size = sum(p.numel() for p in model.parameters()) * 4 / (1024 ** 2) \n",
    "print(f\"Model size: {model_size} MB\")"
   ]
  },
  {
   "cell_type": "markdown",
   "metadata": {},
   "source": [
    "### inference time"
   ]
  },
  {
   "cell_type": "code",
   "execution_count": null,
   "metadata": {},
   "outputs": [],
   "source": [
    "s = 30\n",
    "sample_audio = torch.randn(1, 16000 * s).squeeze().numpy()\n",
    "input_features = processor(sample_audio, sampling_rate=16000, return_tensors=\"pt\").input_features\n",
    "input_features"
   ]
  },
  {
   "cell_type": "code",
   "execution_count": null,
   "metadata": {},
   "outputs": [],
   "source": [
    "def measure_inference_time(model, input_tensor, device):\n",
    "    model.to(device)\n",
    "    input_tensor = input_tensor.to(device)\n",
    "    \n",
    "    # Очистка кэша\n",
    "    torch.cuda.empty_cache()\n",
    "    gc.collect()\n",
    "\n",
    "    # Замеряем время\n",
    "    start_time = time.time()\n",
    "    with torch.no_grad():\n",
    "        output = model.generate(input_tensor, return_timestamps=True)\n",
    "    processor.decode(output)\n",
    "\n",
    "    elapsed_time = (time.time() - start_time) * 1000  # Время в миллисекундах\n",
    "    return round(elapsed_time, 2)\n",
    "\n",
    "# Запуск теста на CPU и GPU\n",
    "cpu_time = measure_inference_time(model, input_features.cpu(), \"cpu\")\n",
    "gpu_time = measure_inference_time(model, input_features, \"cuda\") if torch.cuda.is_available() else \"N/A\""
   ]
  },
  {
   "cell_type": "code",
   "execution_count": null,
   "metadata": {},
   "outputs": [],
   "source": [
    "cpu_time / s, gpu_time / s"
   ]
  },
  {
   "cell_type": "markdown",
   "metadata": {},
   "source": [
    "### Замер использования RAM"
   ]
  },
  {
   "cell_type": "code",
   "execution_count": null,
   "metadata": {},
   "outputs": [],
   "source": [
    "ram_usage = round(psutil.Process().memory_info().rss / (1024 ** 2), 2)  # В MB\n",
    "ram_usage"
   ]
  },
  {
   "cell_type": "markdown",
   "metadata": {},
   "source": [
    "### Замер использования VRAM"
   ]
  },
  {
   "cell_type": "code",
   "execution_count": null,
   "metadata": {},
   "outputs": [],
   "source": [
    "vram_usage = round(torch.cuda.memory_allocated() / (1024 ** 2), 2) if torch.cuda.is_available() else \"N/A\"\n",
    "vram_usage"
   ]
  },
  {
   "cell_type": "markdown",
   "metadata": {},
   "source": [
    "### Оценка качества (CER, WER)"
   ]
  },
  {
   "cell_type": "code",
   "execution_count": null,
   "metadata": {},
   "outputs": [],
   "source": [
    "dataset = load_dataset(\"librispeech_asr\", \"clean\", split=\"test\")"
   ]
  },
  {
   "cell_type": "code",
   "execution_count": null,
   "metadata": {},
   "outputs": [],
   "source": [
    "wer = load(\"wer\")\n",
    "cer = load(\"cer\")\n",
    "\n",
    "def predict(batch, model):\n",
    "    audio = batch[\"audio\"]\n",
    "    input_features = processor(audio[\"array\"], sampling_rate=audio[\"sampling_rate\"], return_tensors=\"pt\").input_features\n",
    "\n",
    "    with torch.no_grad():\n",
    "        predicted_ids = model.generate(input_features.to(\"cpu\"))[0]\n",
    "    transcription = processor.decode(predicted_ids)\n",
    "    return processor.tokenizer._normalize(transcription)"
   ]
  },
  {
   "cell_type": "code",
   "execution_count": null,
   "metadata": {},
   "outputs": [],
   "source": [
    "NUM_EXAMPLES = 64\n",
    "res = defaultdict(list)\n",
    "\n",
    "for el in tqdm(dataset[:NUM_EXAMPLES]):\n",
    "    res[\"reference\"].append(processor.tokenizer._normalize(el['text']))\n",
    "    res[\"prediction\"].append(predict(el, model))\n",
    "\n",
    "cer_res = 100 * cer.compute(references=res[\"reference\"], predictions=res[\"prediction\"])\n",
    "wer_res = 100 * wer.compute(references=res[\"reference\"], predictions=res[\"prediction\"])"
   ]
  },
  {
   "cell_type": "code",
   "execution_count": null,
   "metadata": {},
   "outputs": [],
   "source": [
    "# Вывод результатов\n",
    "results = {\n",
    "    \"Модель \": MODEL_NAME,\n",
    "    \"Метод \": \"Whisper\",\n",
    "    \"Размер весов (MB) \": round(model_size, 2),\n",
    "    \"Время инференса (CPU, ms) \": cpu_time,\n",
    "    \"Время инференса (GPU, ms) \": gpu_time,\n",
    "    \"Использование RAM (MB) \": ram_usage,\n",
    "    \"Использование VRAM (MB) \": vram_usage,\n",
    "    \"Качество \": {\n",
    "        \"CER% \": cer_res,\n",
    "        \"WER% \": wer_res,\n",
    "    }\n",
    "}\n",
    "\n",
    "print(results)"
   ]
  }
 ],
 "metadata": {
  "kernelspec": {
   "display_name": "Python 3",
   "language": "python",
   "name": "python3"
  },
  "language_info": {
   "codemirror_mode": {
    "name": "ipython",
    "version": 3
   },
   "file_extension": ".py",
   "mimetype": "text/x-python",
   "name": "python",
   "nbconvert_exporter": "python",
   "pygments_lexer": "ipython3",
   "version": "3.10.12"
  }
 },
 "nbformat": 4,
 "nbformat_minor": 2
}
